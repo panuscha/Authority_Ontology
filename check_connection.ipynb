{
 "cells": [
  {
   "cell_type": "code",
   "execution_count": 25,
   "metadata": {},
   "outputs": [],
   "source": [
    "from sqlalchemy import create_engine\n",
    "from sqlalchemy.orm import sessionmaker\n",
    "from models import Work, Instance, InstancesHierarchy, session\n"
   ]
  },
  {
   "cell_type": "markdown",
   "metadata": {},
   "source": [
    "### Connection"
   ]
  },
  {
   "cell_type": "code",
   "execution_count": 26,
   "metadata": {},
   "outputs": [
    {
     "name": "stdout",
     "output_type": "stream",
     "text": [
      " Successfully Connected to the database: sqlite:///database.db\n"
     ]
    }
   ],
   "source": [
    "db_url = \"sqlite:///database.db\"\n",
    "\n",
    "engine = create_engine(db_url)\n",
    "# checking if the connection is made\n",
    "try:\n",
    "    with engine.connect() as conn:\n",
    "        print(f\" Successfully Connected to the database: {db_url}\")\n",
    "        Session = sessionmaker(bind=engine)\n",
    "        session = Session()\n",
    "\n",
    "except Exception as ex:\n",
    "    print(f\" Sorry Could not connect to the database: {ex}\")"
   ]
  },
  {
   "cell_type": "markdown",
   "metadata": {},
   "source": [
    "### Check Title Instance"
   ]
  },
  {
   "cell_type": "code",
   "execution_count": 33,
   "metadata": {},
   "outputs": [
    {
     "name": "stdout",
     "output_type": "stream",
     "text": [
      "Perlička na dně je v databázi 2 krát\n",
      "\n",
      "-------0-------\n",
      "ID Instance: 1\n",
      "ID work: 1\n",
      "Žánr: soubor\n",
      "Obsahuje: \n",
      "['Večerní kurs', 'Miláček', 'Staré zlaté časy', 'Fádní odpoledne', 'Smrt pana Baltisbergra', 'Emánek', 'Andělský voči', 'Podvodníci', 'Baron Prášil', 'Křtiny 1947', 'Pražské jesličky']\n",
      "Je v: \n",
      "['Pábení']\n",
      "\n",
      "-------1-------\n",
      "ID Instance: 717\n",
      "ID work: 717\n",
      "Žánr: povídka\n",
      "Obsahuje: \n",
      "[]\n",
      "Je v: \n",
      "['Pábení']\n"
     ]
    }
   ],
   "source": [
    "title = 'Perlička na dně'\n",
    "title_instance = session.query(Instance).filter_by(title = title).all()\n",
    "print(f'{title} je v databázi {len(title_instance)} krát')\n",
    "for i, perlicka in enumerate(title_instance): \n",
    "    print()\n",
    "    print(f'-------{i}-------')\n",
    "    print(f'ID Instance: {perlicka.id}')\n",
    "    print(f'ID work: {perlicka.work_id}')\n",
    "    print(f'Žánr: {perlicka.genre}')\n",
    "    has = [instance.title for instance in perlicka.has]\n",
    "    print('Obsahuje: ')\n",
    "    print(has)\n",
    "    print('Je v: ')\n",
    "    is_in = [instance.title for instance in perlicka.is_part_of]\n",
    "    print(is_in)\n"
   ]
  },
  {
   "cell_type": "markdown",
   "metadata": {},
   "source": [
    "### Check Work Instance"
   ]
  },
  {
   "cell_type": "code",
   "execution_count": 37,
   "metadata": {},
   "outputs": [
    {
     "name": "stdout",
     "output_type": "stream",
     "text": [
      "Perlička na dně je v databázi 2 krát\n",
      "\n",
      "-------0-------\n",
      "ID Work: 1\n",
      "Instance: \n",
      "[1]\n",
      "\n",
      "-------1-------\n",
      "ID Work: 717\n",
      "Instance: \n",
      "[717]\n"
     ]
    }
   ],
   "source": [
    "title = 'Perlička na dně'\n",
    "title_work = session.query(Work).filter_by(original_title = title).all()\n",
    "print(f'{title} je v databázi {len(title_work)} krát')\n",
    "for i, perlicka in enumerate(title_work): \n",
    "    print()\n",
    "    print(f'-------{i}-------')\n",
    "    print(f'ID Work: {perlicka.id}')\n",
    " \n",
    "    instances = [instance.id for instance in perlicka.instances]\n",
    "    print('Instance: ')\n",
    "    print(instances)"
   ]
  }
 ],
 "metadata": {
  "kernelspec": {
   "display_name": "base",
   "language": "python",
   "name": "python3"
  },
  "language_info": {
   "codemirror_mode": {
    "name": "ipython",
    "version": 3
   },
   "file_extension": ".py",
   "mimetype": "text/x-python",
   "name": "python",
   "nbconvert_exporter": "python",
   "pygments_lexer": "ipython3",
   "version": "3.11.7"
  }
 },
 "nbformat": 4,
 "nbformat_minor": 2
}
